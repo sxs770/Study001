{
 "cells": [
  {
   "cell_type": "markdown",
   "id": "1ce42ed6-6b20-43b2-8911-e109fb597187",
   "metadata": {},
   "source": [
    "# 평균 이동"
   ]
  },
  {
   "cell_type": "code",
   "execution_count": 1,
   "id": "00c75c70-7539-419f-a224-65448de8c7e9",
   "metadata": {},
   "outputs": [
    {
     "name": "stdout",
     "output_type": "stream",
     "text": [
      "cluster labels 유형 : [0 1 2 3 4 5]\n"
     ]
    }
   ],
   "source": [
    "import numpy as np\n",
    "import pandas as pd\n",
    "from sklearn.datasets import make_blobs\n",
    "from sklearn.cluster import MeanShift\n",
    "from sklearn.cluster import estimate_bandwidth\n",
    "\n",
    "#bandwidth = 0.8인 경우\n",
    "X, y = make_blobs(n_samples = 200, n_features = 2, centers = 3, cluster_std = 0.7, random_state = 0)\n",
    "\n",
    "meanshift = MeanShift(bandwidth = 0.8)\n",
    "cluster_labels = meanshift.fit_predict(X)\n",
    "print('cluster labels 유형 :', np.unique(cluster_labels))"
   ]
  },
  {
   "cell_type": "code",
   "execution_count": 2,
   "id": "8f265222-1e7d-482a-b8f2-e551f26ddf96",
   "metadata": {},
   "outputs": [
    {
     "name": "stdout",
     "output_type": "stream",
     "text": [
      "cluster labels 유형 : [0 1 2]\n"
     ]
    }
   ],
   "source": [
    "#bandwidth = 1.0인 경우\n",
    "meanshift = MeanShift(bandwidth = 1.0)\n",
    "cluster_labels = meanshift.fit_predict(X)\n",
    "print('cluster labels 유형 :', np.unique(cluster_labels))"
   ]
  },
  {
   "cell_type": "code",
   "execution_count": 3,
   "id": "e5b9008c-4b48-4cc9-a96b-952d868249fc",
   "metadata": {},
   "outputs": [
    {
     "name": "stdout",
     "output_type": "stream",
     "text": [
      "bandwidth 값 : 1.816\n"
     ]
    }
   ],
   "source": [
    "bandwidth = estimate_bandwidth(X)\n",
    "print('bandwidth 값 :', round(bandwidth, 3))"
   ]
  },
  {
   "cell_type": "code",
   "execution_count": 4,
   "id": "a122fc4c-e5c7-47db-84df-0504a80df9db",
   "metadata": {},
   "outputs": [
    {
     "name": "stdout",
     "output_type": "stream",
     "text": [
      "cluster labels 유형 : [0 1 2]\n"
     ]
    }
   ],
   "source": [
    "clusterDF = pd.DataFrame(data = X, columns = ['ftr1', 'ftr2'])\n",
    "clusterDF['target'] = y\n",
    "\n",
    "best_bandwidth = estimate_bandwidth(X)\n",
    "\n",
    "meanshift = MeanShift(bandwidth = best_bandwidth)\n",
    "cluster_labels = meanshift.fit_predict(X)\n",
    "print('cluster labels 유형 :', np.unique(cluster_labels))"
   ]
  },
  {
   "cell_type": "code",
   "execution_count": 5,
   "id": "2e1e9524-8056-48d0-97e2-503e7c04dfbc",
   "metadata": {},
   "outputs": [
    {
     "name": "stdout",
     "output_type": "stream",
     "text": [
      "target  meanshift_label\n",
      "0       0                  67\n",
      "1       1                  67\n",
      "2       2                  66\n",
      "Name: meanshift_label, dtype: int64\n"
     ]
    }
   ],
   "source": [
    "clusterDF['meanshift_label'] = cluster_labels\n",
    "print(clusterDF.groupby('target')['meanshift_label'].value_counts())"
   ]
  }
 ],
 "metadata": {
  "kernelspec": {
   "display_name": "Python 3",
   "language": "python",
   "name": "python3"
  },
  "language_info": {
   "codemirror_mode": {
    "name": "ipython",
    "version": 3
   },
   "file_extension": ".py",
   "mimetype": "text/x-python",
   "name": "python",
   "nbconvert_exporter": "python",
   "pygments_lexer": "ipython3",
   "version": "3.8.8"
  }
 },
 "nbformat": 4,
 "nbformat_minor": 5
}
