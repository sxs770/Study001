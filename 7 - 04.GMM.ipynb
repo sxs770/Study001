{
 "cells": [
  {
   "cell_type": "markdown",
   "id": "455f7fdf-633b-455a-be28-46012fbe8a4e",
   "metadata": {},
   "source": [
    "# GMM(Gaussian Mixture Model)"
   ]
  },
  {
   "cell_type": "markdown",
   "id": "b58d2987-cdae-4098-aed6-19b7f4b383ef",
   "metadata": {},
   "source": [
    "### GMM을 이용한 붓꽃 데이터 세트 군집화(GMM과 K -means 비교)"
   ]
  },
  {
   "cell_type": "code",
   "execution_count": 1,
   "id": "33ac36f7-0c4b-4200-acc1-bee273a7daaa",
   "metadata": {},
   "outputs": [],
   "source": [
    "from sklearn.datasets import load_iris\n",
    "from sklearn.cluster import KMeans\n",
    "from sklearn.mixture import GaussianMixture\n",
    "import pandas as pd\n",
    "import matplotlib.pyplot as plt\n",
    "import numpy as np\n",
    "\n",
    "%matplotlib inline"
   ]
  },
  {
   "cell_type": "code",
   "execution_count": 2,
   "id": "fed7c270-70c7-4ec4-b880-665f88d82e2e",
   "metadata": {},
   "outputs": [],
   "source": [
    "iris = load_iris()\n",
    "feature_names = ['sepal_length', 'sepal_width', 'petal_length', 'petal_width']\n",
    "\n",
    "irisDF = pd.DataFrame(data = iris.data, columns = feature_names)\n",
    "irisDF['target'] = iris.target"
   ]
  },
  {
   "cell_type": "code",
   "execution_count": 3,
   "id": "3972dee6-51df-4790-8ed8-192773f9ce95",
   "metadata": {},
   "outputs": [
    {
     "name": "stdout",
     "output_type": "stream",
     "text": [
      "target  gmm_cluster\n",
      "0       0              50\n",
      "1       2              45\n",
      "        1               5\n",
      "2       1              50\n",
      "Name: gmm_cluster, dtype: int64\n"
     ]
    }
   ],
   "source": [
    "gmm = GaussianMixture(n_components = 3, random_state = 0).fit(iris.data)\n",
    "gmm_cluster_labels = gmm.predict(iris.data)\n",
    "\n",
    "irisDF['gmm_cluster'] = gmm_cluster_labels\n",
    "irisDF['target'] = iris.target\n",
    "\n",
    "iris_result = irisDF.groupby(['target'])['gmm_cluster'].value_counts()\n",
    "print(iris_result)"
   ]
  },
  {
   "cell_type": "code",
   "execution_count": 4,
   "id": "671e4131-047a-40b3-ab17-c34289acf850",
   "metadata": {},
   "outputs": [
    {
     "name": "stdout",
     "output_type": "stream",
     "text": [
      "target  kmeans_cluster\n",
      "0       1                 50\n",
      "1       0                 48\n",
      "        2                  2\n",
      "2       2                 36\n",
      "        0                 14\n",
      "Name: kmeans_cluster, dtype: int64\n"
     ]
    }
   ],
   "source": [
    "kmeans = KMeans(n_clusters = 3, init = 'k-means++', max_iter = 300, random_state = 0).fit(iris.data)\n",
    "kmeans_cluster_labels = kmeans.predict(iris.data)\n",
    "irisDF['kmeans_cluster'] = kmeans_cluster_labels\n",
    "iris_result = irisDF.groupby(['target'])['kmeans_cluster'].value_counts()\n",
    "print(iris_result)"
   ]
  }
 ],
 "metadata": {
  "kernelspec": {
   "display_name": "Python 3",
   "language": "python",
   "name": "python3"
  },
  "language_info": {
   "codemirror_mode": {
    "name": "ipython",
    "version": 3
   },
   "file_extension": ".py",
   "mimetype": "text/x-python",
   "name": "python",
   "nbconvert_exporter": "python",
   "pygments_lexer": "ipython3",
   "version": "3.8.8"
  }
 },
 "nbformat": 4,
 "nbformat_minor": 5
}
