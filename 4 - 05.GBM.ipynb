{
 "cells": [
  {
   "cell_type": "markdown",
   "id": "3fb266e3-6003-4f43-90b1-5781bcad27d2",
   "metadata": {},
   "source": [
    "# GBM(Gradient Boosting Machine)"
   ]
  },
  {
   "cell_type": "markdown",
   "id": "424a4feb-758c-4722-9c01-0b90dbb52d41",
   "metadata": {},
   "source": [
    "### GBM의 개요 및 실습"
   ]
  },
  {
   "cell_type": "code",
   "execution_count": 1,
   "id": "a9dbbb6c-4b6b-4d0e-bda6-db47f858f84e",
   "metadata": {},
   "outputs": [],
   "source": [
    "import pandas as pd\n",
    "from sklearn.tree import DecisionTreeClassifier\n",
    "from sklearn.datasets import load_iris\n",
    "from sklearn.model_selection import train_test_split\n",
    "from sklearn.model_selection import GridSearchCV\n",
    "from sklearn.tree import export_graphviz\n",
    "from sklearn.datasets import make_classification\n",
    "from sklearn.metrics import accuracy_score\n",
    "from sklearn.ensemble import RandomForestClassifier\n",
    "from sklearn.ensemble import GradientBoostingClassifier\n",
    "import time\n",
    "import matplotlib.pyplot as plt\n",
    "%matplotlib inline\n",
    "import graphviz\n",
    "import warnings\n",
    "warnings.filterwarnings('ignore')"
   ]
  },
  {
   "cell_type": "code",
   "execution_count": 2,
   "id": "428aadc6-9f1c-47e8-b2cb-ed8b6fd834f3",
   "metadata": {},
   "outputs": [],
   "source": [
    "#원본 피처명에 _1 또는 _2를 추가로 부여해 새로운 피처명을 가지는 DataFrame을 반환\n",
    "def get_new_feature_name_df(old_feature_name_df):\n",
    "    feature_dup_df = pd.DataFrame(data = old_feature_name_df.groupby('column_name').cumcount(), columns = ['dup_cnt'])\n",
    "    feature_dup_df = feature_dup_df.reset_index()\n",
    "    new_feature_name_df = pd.merge(old_feature_name_df.reset_index(), feature_dup_df, how = 'outer')\n",
    "    new_feature_name_df['column_name'] = new_feature_name_df[['column_name', 'dup_cnt']].apply(lambda x : x[0] + '_' + str(x[1]) if x[1] > 0 else x[0], axis = 1)\n",
    "    new_feature_name_df = new_feature_name_df.drop(['index'], axis = 1)\n",
    "    return new_feature_name_df"
   ]
  },
  {
   "cell_type": "code",
   "execution_count": 3,
   "id": "b0aabb9d-5f9b-4a80-82f5-761472c5e5ac",
   "metadata": {},
   "outputs": [],
   "source": [
    "def get_human_dataset():\n",
    "    \n",
    "    feature_name_df = pd.read_csv('C:/Users/creade/data_science/파이썬 머신러닝 완벽 가이드/human_activity/human_activity/features.txt'\n",
    "                                 , sep = '\\s+', header = None, names = ['column_index', 'column_name'])\n",
    "    \n",
    "    new_feature_name_df = get_new_feature_name_df(feature_name_df)\n",
    "    feature_name = new_feature_name_df.iloc[:, 1].values.tolist()\n",
    "    \n",
    "    X_train = pd.read_csv('C:/Users/creade/data_science/파이썬 머신러닝 완벽 가이드/human_activity/human_activity/train/X_train.txt'\n",
    "                         , sep = \"\\s+\", names = feature_name)\n",
    "    X_test = pd.read_csv('C:/Users/creade/data_science/파이썬 머신러닝 완벽 가이드/human_activity/human_activity/test/X_test.txt'\n",
    "                         , sep = \"\\s+\", names = feature_name)\n",
    "    y_train = pd.read_csv('C:/Users/creade/data_science/파이썬 머신러닝 완벽 가이드/human_activity/human_activity/train/y_train.txt'\n",
    "                         , sep = \"\\s+\", header = None, names = ['action'])\n",
    "    y_test = pd.read_csv('C:/Users/creade/data_science/파이썬 머신러닝 완벽 가이드/human_activity/human_activity/test/y_test.txt'\n",
    "                         , sep = \"\\s+\", header = None, names = ['action'])\n",
    "    \n",
    "    return X_train, X_test, y_train, y_test\n",
    "\n",
    "X_train, X_test, y_train, y_test = get_human_dataset()"
   ]
  },
  {
   "cell_type": "code",
   "execution_count": null,
   "id": "1cd13b95-fffd-4a9e-9af3-81796c78c634",
   "metadata": {},
   "outputs": [],
   "source": [
    "start_time = time.time()\n",
    "\n",
    "gb_clf = GradientBoostingClassifier(random_state = 0)\n",
    "gb_clf.fit(X_train, y_train)\n",
    "gb_pred = gb_clf.predict(X_test)\n",
    "gb_accuracy = accuracy_score(y_test, gb_pred)\n",
    "\n",
    "print('GBM 정확도 : {0:.4f}'.format(gb_accuracy))\n",
    "print('GBM 정확도 수행 시간: {0:.4f}'.format(time.time() - start_time))"
   ]
  },
  {
   "cell_type": "code",
   "execution_count": null,
   "id": "7f6fe477-df47-49cf-b849-d11138d84020",
   "metadata": {},
   "outputs": [],
   "source": [
    "params = {'n_estimators' : [100, 500], 'learning_rate' : [0.05, 0.1]}\n",
    "\n",
    "grid_cv = GridSearchCV(gb_clf, param_grid = params, cv = 2, verbose = 1)\n",
    "grid_cv.fit(X_train, y_train)\n",
    "print('최적 하이퍼 파라미터 :', grid_cv.best_params_)\n",
    "print('최고 예측 정확도 : {0:.4f}'.format(grid_cv.best_score_))"
   ]
  },
  {
   "cell_type": "code",
   "execution_count": null,
   "id": "4a4537fb-bd20-4b13-8748-c37a68f86017",
   "metadata": {},
   "outputs": [],
   "source": [
    "gb_pred = grid_cv.best_estimator_.predict(X_test)\n",
    "gb_accuracy = accuracy_score(y_test, gb_pred)\n",
    "print('GBM 정확도 : {0:.4f}'.format(gb_accuracy))"
   ]
  }
 ],
 "metadata": {
  "kernelspec": {
   "display_name": "Python 3",
   "language": "python",
   "name": "python3"
  },
  "language_info": {
   "codemirror_mode": {
    "name": "ipython",
    "version": 3
   },
   "file_extension": ".py",
   "mimetype": "text/x-python",
   "name": "python",
   "nbconvert_exporter": "python",
   "pygments_lexer": "ipython3",
   "version": "3.8.8"
  }
 },
 "nbformat": 4,
 "nbformat_minor": 5
}
