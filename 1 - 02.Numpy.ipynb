{
 "cells": [
  {
   "cell_type": "markdown",
   "id": "d222abdf-21d5-4d59-9e66-e595af69dde2",
   "metadata": {},
   "source": [
    "# 1 - 02. Numpy"
   ]
  },
  {
   "cell_type": "markdown",
   "id": "d9db6623-9a24-40dd-aa4f-89f4aa5239be",
   "metadata": {},
   "source": [
    "## Numpy"
   ]
  },
  {
   "cell_type": "code",
   "execution_count": 2,
   "id": "1838c1f9-2ba9-4e00-9e1d-9d2e6356bbae",
   "metadata": {},
   "outputs": [],
   "source": [
    "import numpy as np"
   ]
  },
  {
   "cell_type": "code",
   "execution_count": 6,
   "id": "ff5e34bc-0262-402a-a085-2ace60f12b45",
   "metadata": {},
   "outputs": [
    {
     "name": "stdout",
     "output_type": "stream",
     "text": [
      "array type <class 'numpy.ndarray'>\n",
      "array shape (3,)\n",
      "\n"
     ]
    }
   ],
   "source": [
    "array = np.array([1,2,3])\n",
    "print('array type',type(array1))\n",
    "print('array shape',array1.shape)\n",
    "print(\"\")"
   ]
  },
  {
   "cell_type": "code",
   "execution_count": 7,
   "id": "3be519e9-9ccc-4ce5-bdf6-75f853e3f95b",
   "metadata": {},
   "outputs": [
    {
     "name": "stdout",
     "output_type": "stream",
     "text": [
      "array dimension 1\n",
      "array data type int32\n"
     ]
    }
   ],
   "source": [
    "print(\"array dimension\",array.ndim)\n",
    "print(\"array data type\",array.dtype)"
   ]
  },
  {
   "cell_type": "code",
   "execution_count": 9,
   "id": "668bb0cc-8680-48c9-9ca2-597272704291",
   "metadata": {},
   "outputs": [
    {
     "data": {
      "text/plain": [
       "dtype('float64')"
      ]
     },
     "execution_count": 9,
     "metadata": {},
     "output_type": "execute_result"
    }
   ],
   "source": [
    "array_float = array.astype('float64')\n",
    "array_float.dtype"
   ]
  },
  {
   "cell_type": "markdown",
   "id": "342dbf7c-ce7e-4c93-9bb9-8d79fc142bcc",
   "metadata": {},
   "source": [
    "## ndarray를 편리하게 생성하기"
   ]
  },
  {
   "cell_type": "code",
   "execution_count": 16,
   "id": "ecac0d16-f010-4fcc-8735-f4a8453efa07",
   "metadata": {},
   "outputs": [
    {
     "name": "stdout",
     "output_type": "stream",
     "text": [
      "[0 1 2 3 4 5 6 7 8 9]\n",
      "(10,)\n",
      "1\n"
     ]
    }
   ],
   "source": [
    "sequence_array = np.arange(10)\n",
    "print(sequence_array)\n",
    "print(sequence_array.shape)\n",
    "print(sequence_array.ndim)"
   ]
  },
  {
   "cell_type": "code",
   "execution_count": 11,
   "id": "0784cf23-f8ba-42ca-937b-fb1e522629d5",
   "metadata": {},
   "outputs": [
    {
     "name": "stdout",
     "output_type": "stream",
     "text": [
      "[[0 0]\n",
      " [0 0]\n",
      " [0 0]]\n",
      "int32 (3, 2)\n",
      " \n",
      "[[1. 1.]\n",
      " [1. 1.]\n",
      " [1. 1.]]\n",
      "float64 (3, 2)\n"
     ]
    }
   ],
   "source": [
    "zero_array = np.zeros((3,2), dtype = 'int32')\n",
    "print(zero_array)\n",
    "print(zero_array.dtype, zero_array.shape)\n",
    "\n",
    "print(\" \")\n",
    "\n",
    "one_array = np.ones((3,2))\n",
    "print(one_array)\n",
    "print(one_array.dtype, one_array.shape)"
   ]
  },
  {
   "cell_type": "markdown",
   "id": "2c9935b5-0ff3-4766-81b0-e920b8606b3f",
   "metadata": {},
   "source": [
    "## ndarray의 차원과 크기를 변경하는 reshape()"
   ]
  },
  {
   "cell_type": "code",
   "execution_count": 18,
   "id": "fa385ed4-09fa-4026-878d-e634e675dd11",
   "metadata": {},
   "outputs": [
    {
     "name": "stdout",
     "output_type": "stream",
     "text": [
      "[[1 2 3]\n",
      " [4 5 6]] (2, 3)\n",
      " \n",
      "[[1 2]\n",
      " [3 4]\n",
      " [5 6]] (3, 2)\n",
      " \n",
      "[[1 2 3 4 5 6]] (1, 6)\n"
     ]
    }
   ],
   "source": [
    "array = np.array([[1,2,3],\n",
    "                [4,5,6]])\n",
    "print(array, array.shape)\n",
    "\n",
    "print(\" \")\n",
    "\n",
    "reshape_array = array.reshape(3,2)\n",
    "print(reshape_array, reshape_array.shape)\n",
    "\n",
    "print(\" \")\n",
    "\n",
    "reshape_array_1 = array.reshape(1, -1)\n",
    "print(reshape_array_1, reshape_array_1.shape)"
   ]
  },
  {
   "cell_type": "code",
   "execution_count": 19,
   "id": "3e2e8277-86e3-47f4-a0bd-9faa09e514c4",
   "metadata": {},
   "outputs": [
    {
     "name": "stdout",
     "output_type": "stream",
     "text": [
      "[[1]\n",
      " [2]\n",
      " [3]\n",
      " [4]\n",
      " [5]\n",
      " [6]] (6, 1)\n"
     ]
    }
   ],
   "source": [
    "array_minus_one = array.reshape(-1, 1)\n",
    "print(array_minus_one, array_minus_one.shape)"
   ]
  },
  {
   "cell_type": "markdown",
   "id": "0dd4407f-ca25-42ae-89a5-bbbd914b5953",
   "metadata": {},
   "source": [
    "## 넘파이의 ndarray의 데이터 세트 선택하기 - 인덱싱(Indexing)"
   ]
  },
  {
   "cell_type": "code",
   "execution_count": 25,
   "id": "a9595696-9398-452d-ab0e-cf8ea0deb356",
   "metadata": {},
   "outputs": [
    {
     "name": "stdout",
     "output_type": "stream",
     "text": [
      "[[ 0  1  2  3  4]\n",
      " [ 5  6  7  8  9]\n",
      " [10 11 12 13 14]] (3, 5)\n",
      "7\n",
      "13\n"
     ]
    }
   ],
   "source": [
    "# 특정한 데이터만 추출\n",
    "array = np.arange(15)\n",
    "array = array.reshape(3,5)\n",
    "print(array, array.shape)\n",
    "\n",
    "print(array[1,2])\n",
    "print(array[2,3])"
   ]
  },
  {
   "cell_type": "code",
   "execution_count": 33,
   "id": "f55f096a-acfc-46cf-8423-2571e15390fd",
   "metadata": {},
   "outputs": [
    {
     "name": "stdout",
     "output_type": "stream",
     "text": [
      "[ 0  5 10] (3,)\n",
      "[0 1 2] (3,)\n",
      "[[0 1 2 3]\n",
      " [5 6 7 8]] (2, 4)\n"
     ]
    }
   ],
   "source": [
    "#슬라이싱(Slicing)\n",
    "print(array[0:3, 0], array[0:3, 0].shape)\n",
    "print(array[0, 0:3], array[0, 0:3].shape)\n",
    "print(array[:-1, :-1], array[:-1, :-1].shape)"
   ]
  },
  {
   "cell_type": "code",
   "execution_count": 34,
   "id": "2488d6ff-ea52-43a9-b4e1-772fbd2db950",
   "metadata": {},
   "outputs": [
    {
     "name": "stdout",
     "output_type": "stream",
     "text": [
      "[ 2 12] (2,)\n"
     ]
    }
   ],
   "source": [
    "#팬시 인덱싱(Fancy Indexing)\n",
    "print(array[[0,2], 2], array[[0,2], 2].shape)"
   ]
  },
  {
   "cell_type": "code",
   "execution_count": 37,
   "id": "43d1fdae-756e-40b9-9edc-60f9ec4d08b7",
   "metadata": {},
   "outputs": [
    {
     "name": "stdout",
     "output_type": "stream",
     "text": [
      "[ 6  7  8  9 10 11 12 13 14] (9,)\n"
     ]
    },
    {
     "data": {
      "text/plain": [
       "array([[False, False, False, False, False],\n",
       "       [False,  True,  True,  True,  True],\n",
       "       [ True,  True,  True,  True,  True]])"
      ]
     },
     "execution_count": 37,
     "metadata": {},
     "output_type": "execute_result"
    }
   ],
   "source": [
    "#불린 인덱싱(Boolean Indexing)\n",
    "array_Bool = array[array > 5]\n",
    "print(array_Bool,array_Bool.shape)\n",
    "array > 5"
   ]
  },
  {
   "cell_type": "markdown",
   "id": "9e792523-9231-4463-9e11-6e857e62d1be",
   "metadata": {},
   "source": [
    "## 행렬의 정렬 -sort()와 argsort()"
   ]
  },
  {
   "cell_type": "code",
   "execution_count": 50,
   "id": "ac7406c2-4543-45fb-98fb-48314bb1fabe",
   "metadata": {},
   "outputs": [
    {
     "name": "stdout",
     "output_type": "stream",
     "text": [
      "[ 1  4  6  7  8 10]\n",
      " \n",
      "[10  8  7  6  4  1]\n"
     ]
    }
   ],
   "source": [
    "array = np.array([4, 8, 1, 7, 6, 10])\n",
    "\n",
    "# 오름차순 정렬(1차원)\n",
    "array1 = np.sort(array)\n",
    "print(array1)\n",
    "\n",
    "print(\" \")\n",
    "\n",
    "#내림차순 정렬(1차원)\n",
    "array2 = np.sort(array)[::-1]\n",
    "print(array2)"
   ]
  },
  {
   "cell_type": "code",
   "execution_count": 62,
   "id": "074cbae6-4ee6-4c81-b0b7-66738804326b",
   "metadata": {},
   "outputs": [
    {
     "name": "stdout",
     "output_type": "stream",
     "text": [
      "[[ 4  2  1  3  7]\n",
      " [12 14  5  0  6]\n",
      " [ 9 11 13 10  8]]\n",
      " \n",
      "[[ 4  2  1  0  6]\n",
      " [ 9 11  5  3  7]\n",
      " [12 14 13 10  8]]\n",
      " \n",
      "[[ 1  2  3  4  7]\n",
      " [ 0  5  6 12 14]\n",
      " [ 8  9 10 11 13]]\n"
     ]
    }
   ],
   "source": [
    "array = np.array([4, 2, 1, 3, 7, 12, 14, 5, 0, 6, 9, 11, 13, 10, 8])\n",
    "array = array.reshape(3,5)\n",
    "print(array)\n",
    "\n",
    "print(\" \")\n",
    "\n",
    "#low 방향으로 정렬(2차원 이상)\n",
    "array1 = np.sort(array, axis = 0)\n",
    "print(array1)\n",
    "\n",
    "print(\" \")\n",
    "\n",
    "#column 방향으로 정렬(2차원 이상)\n",
    "array2 = np.sort(array, axis = 1)\n",
    "print(array2)"
   ]
  },
  {
   "cell_type": "code",
   "execution_count": 63,
   "id": "b1f2fca4-663c-4454-ae13-aead6dedeff6",
   "metadata": {},
   "outputs": [
    {
     "data": {
      "text/plain": [
       "array([[2, 1, 3, 0, 4],\n",
       "       [3, 2, 4, 0, 1],\n",
       "       [4, 0, 3, 1, 2]], dtype=int64)"
      ]
     },
     "execution_count": 63,
     "metadata": {},
     "output_type": "execute_result"
    }
   ],
   "source": [
    "#행렬 정렬 시 원본 행렬의 인덱스 반환\n",
    "#array = np.array([3, 1, 9, 5])\n",
    "array_argsort = np.argsort(array)\n",
    "array_argsort"
   ]
  },
  {
   "cell_type": "markdown",
   "id": "4509a223-1a9a-4c61-8af3-156c9974ae18",
   "metadata": {},
   "source": [
    "## 선형대수 연산 - 행렬 내적과 전치 행렬 구하기"
   ]
  },
  {
   "cell_type": "code",
   "execution_count": 65,
   "id": "2cb73d17-da5f-4337-9225-5a52b0b5fcd5",
   "metadata": {},
   "outputs": [
    {
     "name": "stdout",
     "output_type": "stream",
     "text": [
      "[[ 58  64]\n",
      " [139 154]]\n",
      " \n",
      "[[1 4]\n",
      " [2 5]\n",
      " [3 6]]\n"
     ]
    }
   ],
   "source": [
    "A = np.array([[1, 2, 3],\n",
    "            [4, 5, 6]])\n",
    "B = np.array([[7, 8],\n",
    "             [9, 10],\n",
    "             [11, 12]])\n",
    "\n",
    "print(np.dot(A, B))\n",
    "\n",
    "print(\" \")\n",
    "\n",
    "print(np.transpose(A))"
   ]
  }
 ],
 "metadata": {
  "kernelspec": {
   "display_name": "Python 3",
   "language": "python",
   "name": "python3"
  },
  "language_info": {
   "codemirror_mode": {
    "name": "ipython",
    "version": 3
   },
   "file_extension": ".py",
   "mimetype": "text/x-python",
   "name": "python",
   "nbconvert_exporter": "python",
   "pygments_lexer": "ipython3",
   "version": "3.8.8"
  }
 },
 "nbformat": 4,
 "nbformat_minor": 5
}
